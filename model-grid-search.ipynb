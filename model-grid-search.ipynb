{
 "cells": [
  {
   "cell_type": "code",
   "execution_count": 1,
   "id": "c5ca274b",
   "metadata": {
    "_cell_guid": "b1076dfc-b9ad-4769-8c92-a6c4dae69d19",
    "_uuid": "8f2839f25d086af736a60e9eeb907d3b93b6e0e5",
    "execution": {
     "iopub.execute_input": "2023-08-28T10:49:21.945875Z",
     "iopub.status.busy": "2023-08-28T10:49:21.945317Z",
     "iopub.status.idle": "2023-08-28T10:49:21.969276Z",
     "shell.execute_reply": "2023-08-28T10:49:21.967754Z"
    },
    "papermill": {
     "duration": 0.036749,
     "end_time": "2023-08-28T10:49:21.971891",
     "exception": false,
     "start_time": "2023-08-28T10:49:21.935142",
     "status": "completed"
    },
    "tags": []
   },
   "outputs": [
    {
     "name": "stdout",
     "output_type": "stream",
     "text": [
      "/kaggle/input/diabetes-health-indicators-dataset/diabetes_binary_5050split_health_indicators_BRFSS2015.csv\n",
      "/kaggle/input/diabetes-health-indicators-dataset/diabetes_binary_health_indicators_BRFSS2015.csv\n",
      "/kaggle/input/diabetes-health-indicators-dataset/diabetes_012_health_indicators_BRFSS2015.csv\n"
     ]
    }
   ],
   "source": [
    "# This Python 3 environment comes with many helpful analytics libraries installed\n",
    "# It is defined by the kaggle/python Docker image: https://github.com/kaggle/docker-python\n",
    "# For example, here's several helpful packages to load\n",
    "\n",
    "import numpy as np # linear algebra\n",
    "import pandas as pd # data processing, CSV file I/O (e.g. pd.read_csv)\n",
    "\n",
    "# Input data files are available in the read-only \"../input/\" directory\n",
    "# For example, running this (by clicking run or pressing Shift+Enter) will list all files under the input directory\n",
    "\n",
    "import os\n",
    "for dirname, _, filenames in os.walk('/kaggle/input'):\n",
    "    for filename in filenames:\n",
    "        print(os.path.join(dirname, filename))\n",
    "\n",
    "# You can write up to 20GB to the current directory (/kaggle/working/) that gets preserved as output when you create a version using \"Save & Run All\" \n",
    "# You can also write temporary files to /kaggle/temp/, but they won't be saved outside of the current session"
   ]
  },
  {
   "cell_type": "markdown",
   "id": "bae12d1a",
   "metadata": {
    "papermill": {
     "duration": 0.007211,
     "end_time": "2023-08-28T10:49:21.987028",
     "exception": false,
     "start_time": "2023-08-28T10:49:21.979817",
     "status": "completed"
    },
    "tags": []
   },
   "source": [
    "# PLAN OF WORK\n",
    "\n",
    "1. BMI ---> categorical (bins)\n",
    "2. EDA:\n",
    "    - check if there are any missing values\n",
    "    - check if data is balanced\n",
    "    - check correlation \n",
    "  \n",
    "  \n"
   ]
  },
  {
   "cell_type": "markdown",
   "id": "05e1bd9c",
   "metadata": {
    "papermill": {
     "duration": 0.007182,
     "end_time": "2023-08-28T10:49:22.001675",
     "exception": false,
     "start_time": "2023-08-28T10:49:21.994493",
     "status": "completed"
    },
    "tags": []
   },
   "source": [
    "In this notebook we are using diabetes _ binary _ 5050split _ health _ indicators _ BRFSS2015.csv - a clean dataset of 70,692 survey responses to the CDC's BRFSS2015. It has an equal 50-50 split of respondents with no diabetes and with either prediabetes or diabetes. The target variable Diabetes_binary has 2 classes. 0 is for no diabetes, and 1 is for prediabetes or diabetes. This dataset has 21 feature variables and is balanced."
   ]
  },
  {
   "cell_type": "markdown",
   "id": "fbad3407",
   "metadata": {
    "papermill": {
     "duration": 0.007076,
     "end_time": "2023-08-28T10:49:22.016288",
     "exception": false,
     "start_time": "2023-08-28T10:49:22.009212",
     "status": "completed"
    },
    "tags": []
   },
   "source": [
    "# Data preparation\n",
    "\n",
    "## Changing continuous feature into a bunch of binary ones (continuous -> categories -> one hot encoding)"
   ]
  },
  {
   "cell_type": "markdown",
   "id": "009387c6",
   "metadata": {
    "papermill": {
     "duration": 0.007506,
     "end_time": "2023-08-28T10:49:22.031143",
     "exception": false,
     "start_time": "2023-08-28T10:49:22.023637",
     "status": "completed"
    },
    "tags": []
   },
   "source": [
    "### Module imports"
   ]
  },
  {
   "cell_type": "code",
   "execution_count": 2,
   "id": "ee510bc2",
   "metadata": {
    "execution": {
     "iopub.execute_input": "2023-08-28T10:49:22.048767Z",
     "iopub.status.busy": "2023-08-28T10:49:22.047691Z",
     "iopub.status.idle": "2023-08-28T10:49:23.265523Z",
     "shell.execute_reply": "2023-08-28T10:49:23.264150Z"
    },
    "papermill": {
     "duration": 1.229602,
     "end_time": "2023-08-28T10:49:23.268439",
     "exception": false,
     "start_time": "2023-08-28T10:49:22.038837",
     "status": "completed"
    },
    "tags": []
   },
   "outputs": [
    {
     "name": "stderr",
     "output_type": "stream",
     "text": [
      "/opt/conda/lib/python3.10/site-packages/scipy/__init__.py:146: UserWarning: A NumPy version >=1.16.5 and <1.23.0 is required for this version of SciPy (detected version 1.23.5\n",
      "  warnings.warn(f\"A NumPy version >={np_minversion} and <{np_maxversion}\"\n"
     ]
    }
   ],
   "source": [
    "from sklearn.preprocessing import OneHotEncoder\n",
    "from pandas import DataFrame, Series\n",
    "from typing import Union, Literal\n",
    "from math import sqrt, ceil"
   ]
  },
  {
   "cell_type": "markdown",
   "id": "cce490ba",
   "metadata": {
    "papermill": {
     "duration": 0.007305,
     "end_time": "2023-08-28T10:49:23.283819",
     "exception": false,
     "start_time": "2023-08-28T10:49:23.276514",
     "status": "completed"
    },
    "tags": []
   },
   "source": [
    "### Continuous -> discrete"
   ]
  },
  {
   "cell_type": "code",
   "execution_count": 3,
   "id": "ac593ca5",
   "metadata": {
    "execution": {
     "iopub.execute_input": "2023-08-28T10:49:23.302431Z",
     "iopub.status.busy": "2023-08-28T10:49:23.302026Z",
     "iopub.status.idle": "2023-08-28T10:49:23.310906Z",
     "shell.execute_reply": "2023-08-28T10:49:23.309940Z"
    },
    "papermill": {
     "duration": 0.021722,
     "end_time": "2023-08-28T10:49:23.313012",
     "exception": false,
     "start_time": "2023-08-28T10:49:23.291290",
     "status": "completed"
    },
    "tags": []
   },
   "outputs": [],
   "source": [
    "def convertBMIIndexToObesityCategory(bmi_index: float, log_warnings: bool = False) -> Literal[\"Underweight\", \"Healthy weight\",\"Overweight\",\"Obese\"]:\n",
    "    \"\"\"\n",
    "    Converts BMI index to a corresponding obesity category.\n",
    "    \"\"\"\n",
    "    if bmi_index < 9 and log_warnings:\n",
    "         print(f\"Very low BMI index encountered: {bmi_index}.\")\n",
    "    if bmi_index < 18.5:\n",
    "        return \"Underweight\"\n",
    "    if bmi_index < 24.9:\n",
    "        return \"Healthy weight\"\n",
    "    if bmi_index < 29.9:\n",
    "         return \"Overweight\"\n",
    "    if bmi_index > 186 and log_warnings:\n",
    "         print(f\"Very high BMI index encountered: {bmi_index}.\")\n",
    "    return \"Obese\"\n",
    "    \n",
    "def convertBMIIndexColumnToObesityCategories(bmi_column: Series) -> Series:\n",
    "    \"\"\"\n",
    "    Converts BMI indices in column to obesity category.\n",
    "    \"\"\"\n",
    "    category_list = [None] * len(bmi_column)\n",
    "    for sample_index, bmi_index in enumerate(bmi_column):\n",
    "        category_list[sample_index] = convertBMIIndexToObesityCategory(bmi_index, log_warnings = True)\n",
    "    return Series(category_list, dtype = 'category')"
   ]
  },
  {
   "cell_type": "markdown",
   "id": "e60bdf89",
   "metadata": {
    "papermill": {
     "duration": 0.007211,
     "end_time": "2023-08-28T10:49:23.327919",
     "exception": false,
     "start_time": "2023-08-28T10:49:23.320708",
     "status": "completed"
    },
    "tags": []
   },
   "source": [
    "### Discrete -> one-hot encoded"
   ]
  },
  {
   "cell_type": "code",
   "execution_count": 4,
   "id": "dfb5448e",
   "metadata": {
    "execution": {
     "iopub.execute_input": "2023-08-28T10:49:23.345637Z",
     "iopub.status.busy": "2023-08-28T10:49:23.344439Z",
     "iopub.status.idle": "2023-08-28T10:49:23.354249Z",
     "shell.execute_reply": "2023-08-28T10:49:23.353039Z"
    },
    "papermill": {
     "duration": 0.021274,
     "end_time": "2023-08-28T10:49:23.356731",
     "exception": false,
     "start_time": "2023-08-28T10:49:23.335457",
     "status": "completed"
    },
    "tags": []
   },
   "outputs": [],
   "source": [
    "def oneHotEncodeBMIColumn(dataset: DataFrame, feature_column_name: str) -> DataFrame:\n",
    "    \"\"\"\n",
    "    Converts BMI column in dataset into series of one hot encoded obesity categories.\n",
    "    ---\n",
    "    Parameters:\n",
    "    \n",
    "    - `dataset`: DataFrame that contains column to be converted.\n",
    "    - `feature_column_index`: index of feature's column.\n",
    "    \n",
    "    Returns:\n",
    "    \n",
    "    A DataFrame with selected column categorized and one hot encoded.\n",
    "    \"\"\"\n",
    "    dataset_has_correct_type: bool = isinstance(dataset, DataFrame)\n",
    "    if not dataset_has_correct_type:\n",
    "        dataset_type_name = type(dataset)\n",
    "        raise TypeError(\"Dataset has incorrect type; use pandas.DataFrame.\")\n",
    "    try:\n",
    "        dataset[feature_column_name]\n",
    "    except KeyError:\n",
    "        raise IndexError(f\"Incorrect feature column name: {feature_column_name}\")\n",
    "    dataset[feature_column_name] = convertBMIIndexColumnToObesityCategories(dataset[feature_column_name])\n",
    "    encoder = OneHotEncoder(sparse_output = False)\n",
    "    feature_encoded = DataFrame(encoder.fit_transform(dataset[[feature_column_name]]))\n",
    "    feature_encoded.columns = encoder.get_feature_names_out([feature_column_name])\n",
    "    dataset.drop([feature_column_name], axis = 1, inplace = True)\n",
    "    return (pd.concat([dataset, feature_encoded], axis=1))"
   ]
  },
  {
   "cell_type": "code",
   "execution_count": 5,
   "id": "f48b1456",
   "metadata": {
    "execution": {
     "iopub.execute_input": "2023-08-28T10:49:23.374470Z",
     "iopub.status.busy": "2023-08-28T10:49:23.373761Z",
     "iopub.status.idle": "2023-08-28T10:49:23.835986Z",
     "shell.execute_reply": "2023-08-28T10:49:23.834892Z"
    },
    "papermill": {
     "duration": 0.474359,
     "end_time": "2023-08-28T10:49:23.838923",
     "exception": false,
     "start_time": "2023-08-28T10:49:23.364564",
     "status": "completed"
    },
    "tags": []
   },
   "outputs": [
    {
     "name": "stdout",
     "output_type": "stream",
     "text": [
      "   Diabetes_binary  HighBP  HighChol  CholCheck  Smoker  Stroke  \\\n",
      "0              0.0     1.0       0.0        1.0     0.0     0.0   \n",
      "1              0.0     1.0       1.0        1.0     1.0     1.0   \n",
      "2              0.0     0.0       0.0        1.0     0.0     0.0   \n",
      "3              0.0     1.0       1.0        1.0     1.0     0.0   \n",
      "4              0.0     0.0       0.0        1.0     1.0     0.0   \n",
      "\n",
      "   HeartDiseaseorAttack  PhysActivity  Fruits  Veggies  ...  PhysHlth  \\\n",
      "0                   0.0           1.0     0.0      1.0  ...      30.0   \n",
      "1                   0.0           0.0     1.0      0.0  ...       0.0   \n",
      "2                   0.0           1.0     1.0      1.0  ...      10.0   \n",
      "3                   0.0           1.0     1.0      1.0  ...       3.0   \n",
      "4                   0.0           1.0     1.0      1.0  ...       0.0   \n",
      "\n",
      "   DiffWalk  Sex   Age  Education  Income  BMI_Healthy weight  BMI_Obese  \\\n",
      "0       0.0  1.0   4.0        6.0     8.0                 0.0        0.0   \n",
      "1       0.0  1.0  12.0        6.0     8.0                 0.0        0.0   \n",
      "2       0.0  1.0  13.0        6.0     8.0                 0.0        0.0   \n",
      "3       0.0  1.0  11.0        6.0     8.0                 0.0        0.0   \n",
      "4       0.0  0.0   8.0        5.0     8.0                 0.0        0.0   \n",
      "\n",
      "   BMI_Overweight  BMI_Underweight  \n",
      "0             1.0              0.0  \n",
      "1             1.0              0.0  \n",
      "2             1.0              0.0  \n",
      "3             1.0              0.0  \n",
      "4             1.0              0.0  \n",
      "\n",
      "[5 rows x 25 columns]\n"
     ]
    }
   ],
   "source": [
    "# Data import and preprocessing\n",
    "\n",
    "diabetes_dataset_5050_split = pd.read_csv(\"/kaggle/input/diabetes-health-indicators-dataset/diabetes_binary_5050split_health_indicators_BRFSS2015.csv\")\n",
    "diabetes_dataset_5050_split_ohencoded = oneHotEncodeBMIColumn(diabetes_dataset_5050_split, \"BMI\")\n",
    "print(diabetes_dataset_5050_split_ohencoded.head())"
   ]
  },
  {
   "cell_type": "code",
   "execution_count": 6,
   "id": "a896266e",
   "metadata": {
    "execution": {
     "iopub.execute_input": "2023-08-28T10:49:23.857041Z",
     "iopub.status.busy": "2023-08-28T10:49:23.856135Z",
     "iopub.status.idle": "2023-08-28T10:49:24.331740Z",
     "shell.execute_reply": "2023-08-28T10:49:24.330698Z"
    },
    "papermill": {
     "duration": 0.48757,
     "end_time": "2023-08-28T10:49:24.334418",
     "exception": false,
     "start_time": "2023-08-28T10:49:23.846848",
     "status": "completed"
    },
    "tags": []
   },
   "outputs": [],
   "source": [
    "import numpy as np\n",
    "import pandas as pd\n",
    "import seaborn as sns\n",
    "import matplotlib.pyplot as plt"
   ]
  },
  {
   "cell_type": "code",
   "execution_count": 7,
   "id": "5e638918",
   "metadata": {
    "execution": {
     "iopub.execute_input": "2023-08-28T10:49:24.353491Z",
     "iopub.status.busy": "2023-08-28T10:49:24.351253Z",
     "iopub.status.idle": "2023-08-28T10:49:24.395539Z",
     "shell.execute_reply": "2023-08-28T10:49:24.394216Z"
    },
    "papermill": {
     "duration": 0.055836,
     "end_time": "2023-08-28T10:49:24.398017",
     "exception": false,
     "start_time": "2023-08-28T10:49:24.342181",
     "status": "completed"
    },
    "tags": []
   },
   "outputs": [
    {
     "data": {
      "text/html": [
       "<div>\n",
       "<style scoped>\n",
       "    .dataframe tbody tr th:only-of-type {\n",
       "        vertical-align: middle;\n",
       "    }\n",
       "\n",
       "    .dataframe tbody tr th {\n",
       "        vertical-align: top;\n",
       "    }\n",
       "\n",
       "    .dataframe thead th {\n",
       "        text-align: right;\n",
       "    }\n",
       "</style>\n",
       "<table border=\"1\" class=\"dataframe\">\n",
       "  <thead>\n",
       "    <tr style=\"text-align: right;\">\n",
       "      <th></th>\n",
       "      <th>Diabetes_binary</th>\n",
       "      <th>HighBP</th>\n",
       "      <th>HighChol</th>\n",
       "      <th>CholCheck</th>\n",
       "      <th>Smoker</th>\n",
       "      <th>Stroke</th>\n",
       "      <th>HeartDiseaseorAttack</th>\n",
       "      <th>PhysActivity</th>\n",
       "      <th>Fruits</th>\n",
       "      <th>Veggies</th>\n",
       "      <th>...</th>\n",
       "      <th>PhysHlth</th>\n",
       "      <th>DiffWalk</th>\n",
       "      <th>Sex</th>\n",
       "      <th>Age</th>\n",
       "      <th>Education</th>\n",
       "      <th>Income</th>\n",
       "      <th>BMI_Healthy weight</th>\n",
       "      <th>BMI_Obese</th>\n",
       "      <th>BMI_Overweight</th>\n",
       "      <th>BMI_Underweight</th>\n",
       "    </tr>\n",
       "  </thead>\n",
       "  <tbody>\n",
       "    <tr>\n",
       "      <th>0</th>\n",
       "      <td>0.0</td>\n",
       "      <td>1.0</td>\n",
       "      <td>0.0</td>\n",
       "      <td>1.0</td>\n",
       "      <td>0.0</td>\n",
       "      <td>0.0</td>\n",
       "      <td>0.0</td>\n",
       "      <td>1.0</td>\n",
       "      <td>0.0</td>\n",
       "      <td>1.0</td>\n",
       "      <td>...</td>\n",
       "      <td>30.0</td>\n",
       "      <td>0.0</td>\n",
       "      <td>1.0</td>\n",
       "      <td>4.0</td>\n",
       "      <td>6.0</td>\n",
       "      <td>8.0</td>\n",
       "      <td>0.0</td>\n",
       "      <td>0.0</td>\n",
       "      <td>1.0</td>\n",
       "      <td>0.0</td>\n",
       "    </tr>\n",
       "    <tr>\n",
       "      <th>1</th>\n",
       "      <td>0.0</td>\n",
       "      <td>1.0</td>\n",
       "      <td>1.0</td>\n",
       "      <td>1.0</td>\n",
       "      <td>1.0</td>\n",
       "      <td>1.0</td>\n",
       "      <td>0.0</td>\n",
       "      <td>0.0</td>\n",
       "      <td>1.0</td>\n",
       "      <td>0.0</td>\n",
       "      <td>...</td>\n",
       "      <td>0.0</td>\n",
       "      <td>0.0</td>\n",
       "      <td>1.0</td>\n",
       "      <td>12.0</td>\n",
       "      <td>6.0</td>\n",
       "      <td>8.0</td>\n",
       "      <td>0.0</td>\n",
       "      <td>0.0</td>\n",
       "      <td>1.0</td>\n",
       "      <td>0.0</td>\n",
       "    </tr>\n",
       "    <tr>\n",
       "      <th>2</th>\n",
       "      <td>0.0</td>\n",
       "      <td>0.0</td>\n",
       "      <td>0.0</td>\n",
       "      <td>1.0</td>\n",
       "      <td>0.0</td>\n",
       "      <td>0.0</td>\n",
       "      <td>0.0</td>\n",
       "      <td>1.0</td>\n",
       "      <td>1.0</td>\n",
       "      <td>1.0</td>\n",
       "      <td>...</td>\n",
       "      <td>10.0</td>\n",
       "      <td>0.0</td>\n",
       "      <td>1.0</td>\n",
       "      <td>13.0</td>\n",
       "      <td>6.0</td>\n",
       "      <td>8.0</td>\n",
       "      <td>0.0</td>\n",
       "      <td>0.0</td>\n",
       "      <td>1.0</td>\n",
       "      <td>0.0</td>\n",
       "    </tr>\n",
       "    <tr>\n",
       "      <th>3</th>\n",
       "      <td>0.0</td>\n",
       "      <td>1.0</td>\n",
       "      <td>1.0</td>\n",
       "      <td>1.0</td>\n",
       "      <td>1.0</td>\n",
       "      <td>0.0</td>\n",
       "      <td>0.0</td>\n",
       "      <td>1.0</td>\n",
       "      <td>1.0</td>\n",
       "      <td>1.0</td>\n",
       "      <td>...</td>\n",
       "      <td>3.0</td>\n",
       "      <td>0.0</td>\n",
       "      <td>1.0</td>\n",
       "      <td>11.0</td>\n",
       "      <td>6.0</td>\n",
       "      <td>8.0</td>\n",
       "      <td>0.0</td>\n",
       "      <td>0.0</td>\n",
       "      <td>1.0</td>\n",
       "      <td>0.0</td>\n",
       "    </tr>\n",
       "    <tr>\n",
       "      <th>4</th>\n",
       "      <td>0.0</td>\n",
       "      <td>0.0</td>\n",
       "      <td>0.0</td>\n",
       "      <td>1.0</td>\n",
       "      <td>1.0</td>\n",
       "      <td>0.0</td>\n",
       "      <td>0.0</td>\n",
       "      <td>1.0</td>\n",
       "      <td>1.0</td>\n",
       "      <td>1.0</td>\n",
       "      <td>...</td>\n",
       "      <td>0.0</td>\n",
       "      <td>0.0</td>\n",
       "      <td>0.0</td>\n",
       "      <td>8.0</td>\n",
       "      <td>5.0</td>\n",
       "      <td>8.0</td>\n",
       "      <td>0.0</td>\n",
       "      <td>0.0</td>\n",
       "      <td>1.0</td>\n",
       "      <td>0.0</td>\n",
       "    </tr>\n",
       "  </tbody>\n",
       "</table>\n",
       "<p>5 rows × 25 columns</p>\n",
       "</div>"
      ],
      "text/plain": [
       "   Diabetes_binary  HighBP  HighChol  CholCheck  Smoker  Stroke  \\\n",
       "0              0.0     1.0       0.0        1.0     0.0     0.0   \n",
       "1              0.0     1.0       1.0        1.0     1.0     1.0   \n",
       "2              0.0     0.0       0.0        1.0     0.0     0.0   \n",
       "3              0.0     1.0       1.0        1.0     1.0     0.0   \n",
       "4              0.0     0.0       0.0        1.0     1.0     0.0   \n",
       "\n",
       "   HeartDiseaseorAttack  PhysActivity  Fruits  Veggies  ...  PhysHlth  \\\n",
       "0                   0.0           1.0     0.0      1.0  ...      30.0   \n",
       "1                   0.0           0.0     1.0      0.0  ...       0.0   \n",
       "2                   0.0           1.0     1.0      1.0  ...      10.0   \n",
       "3                   0.0           1.0     1.0      1.0  ...       3.0   \n",
       "4                   0.0           1.0     1.0      1.0  ...       0.0   \n",
       "\n",
       "   DiffWalk  Sex   Age  Education  Income  BMI_Healthy weight  BMI_Obese  \\\n",
       "0       0.0  1.0   4.0        6.0     8.0                 0.0        0.0   \n",
       "1       0.0  1.0  12.0        6.0     8.0                 0.0        0.0   \n",
       "2       0.0  1.0  13.0        6.0     8.0                 0.0        0.0   \n",
       "3       0.0  1.0  11.0        6.0     8.0                 0.0        0.0   \n",
       "4       0.0  0.0   8.0        5.0     8.0                 0.0        0.0   \n",
       "\n",
       "   BMI_Overweight  BMI_Underweight  \n",
       "0             1.0              0.0  \n",
       "1             1.0              0.0  \n",
       "2             1.0              0.0  \n",
       "3             1.0              0.0  \n",
       "4             1.0              0.0  \n",
       "\n",
       "[5 rows x 25 columns]"
      ]
     },
     "execution_count": 7,
     "metadata": {},
     "output_type": "execute_result"
    }
   ],
   "source": [
    "# assigning ready datset as df to make it easier \n",
    "\n",
    "df = diabetes_dataset_5050_split_ohencoded\n",
    "df.head()\n",
    "\n"
   ]
  },
  {
   "cell_type": "code",
   "execution_count": 8,
   "id": "85c7b765",
   "metadata": {
    "execution": {
     "iopub.execute_input": "2023-08-28T10:49:24.416199Z",
     "iopub.status.busy": "2023-08-28T10:49:24.415805Z",
     "iopub.status.idle": "2023-08-28T10:49:24.440408Z",
     "shell.execute_reply": "2023-08-28T10:49:24.438751Z"
    },
    "papermill": {
     "duration": 0.036624,
     "end_time": "2023-08-28T10:49:24.442949",
     "exception": false,
     "start_time": "2023-08-28T10:49:24.406325",
     "status": "completed"
    },
    "tags": []
   },
   "outputs": [
    {
     "name": "stdout",
     "output_type": "stream",
     "text": [
      "<class 'pandas.core.frame.DataFrame'>\n",
      "RangeIndex: 70692 entries, 0 to 70691\n",
      "Data columns (total 25 columns):\n",
      " #   Column                Non-Null Count  Dtype  \n",
      "---  ------                --------------  -----  \n",
      " 0   Diabetes_binary       70692 non-null  float64\n",
      " 1   HighBP                70692 non-null  float64\n",
      " 2   HighChol              70692 non-null  float64\n",
      " 3   CholCheck             70692 non-null  float64\n",
      " 4   Smoker                70692 non-null  float64\n",
      " 5   Stroke                70692 non-null  float64\n",
      " 6   HeartDiseaseorAttack  70692 non-null  float64\n",
      " 7   PhysActivity          70692 non-null  float64\n",
      " 8   Fruits                70692 non-null  float64\n",
      " 9   Veggies               70692 non-null  float64\n",
      " 10  HvyAlcoholConsump     70692 non-null  float64\n",
      " 11  AnyHealthcare         70692 non-null  float64\n",
      " 12  NoDocbcCost           70692 non-null  float64\n",
      " 13  GenHlth               70692 non-null  float64\n",
      " 14  MentHlth              70692 non-null  float64\n",
      " 15  PhysHlth              70692 non-null  float64\n",
      " 16  DiffWalk              70692 non-null  float64\n",
      " 17  Sex                   70692 non-null  float64\n",
      " 18  Age                   70692 non-null  float64\n",
      " 19  Education             70692 non-null  float64\n",
      " 20  Income                70692 non-null  float64\n",
      " 21  BMI_Healthy weight    70692 non-null  float64\n",
      " 22  BMI_Obese             70692 non-null  float64\n",
      " 23  BMI_Overweight        70692 non-null  float64\n",
      " 24  BMI_Underweight       70692 non-null  float64\n",
      "dtypes: float64(25)\n",
      "memory usage: 13.5 MB\n"
     ]
    }
   ],
   "source": [
    "# checking column names, types and count\n",
    "\n",
    "df.info()\n"
   ]
  },
  {
   "cell_type": "code",
   "execution_count": 9,
   "id": "be4645af",
   "metadata": {
    "execution": {
     "iopub.execute_input": "2023-08-28T10:49:24.461042Z",
     "iopub.status.busy": "2023-08-28T10:49:24.460658Z",
     "iopub.status.idle": "2023-08-28T10:49:24.473568Z",
     "shell.execute_reply": "2023-08-28T10:49:24.472421Z"
    },
    "papermill": {
     "duration": 0.024892,
     "end_time": "2023-08-28T10:49:24.476077",
     "exception": false,
     "start_time": "2023-08-28T10:49:24.451185",
     "status": "completed"
    },
    "tags": []
   },
   "outputs": [
    {
     "data": {
      "text/plain": [
       "Diabetes_binary         0\n",
       "HighBP                  0\n",
       "HighChol                0\n",
       "CholCheck               0\n",
       "Smoker                  0\n",
       "Stroke                  0\n",
       "HeartDiseaseorAttack    0\n",
       "PhysActivity            0\n",
       "Fruits                  0\n",
       "Veggies                 0\n",
       "HvyAlcoholConsump       0\n",
       "AnyHealthcare           0\n",
       "NoDocbcCost             0\n",
       "GenHlth                 0\n",
       "MentHlth                0\n",
       "PhysHlth                0\n",
       "DiffWalk                0\n",
       "Sex                     0\n",
       "Age                     0\n",
       "Education               0\n",
       "Income                  0\n",
       "BMI_Healthy weight      0\n",
       "BMI_Obese               0\n",
       "BMI_Overweight          0\n",
       "BMI_Underweight         0\n",
       "dtype: int64"
      ]
     },
     "execution_count": 9,
     "metadata": {},
     "output_type": "execute_result"
    }
   ],
   "source": [
    "# checking if there are any missing values\n",
    "\n",
    "df.isna().sum()"
   ]
  },
  {
   "cell_type": "code",
   "execution_count": 10,
   "id": "bfef3141",
   "metadata": {
    "execution": {
     "iopub.execute_input": "2023-08-28T10:49:24.495760Z",
     "iopub.status.busy": "2023-08-28T10:49:24.494977Z",
     "iopub.status.idle": "2023-08-28T10:49:24.543428Z",
     "shell.execute_reply": "2023-08-28T10:49:24.542274Z"
    },
    "papermill": {
     "duration": 0.061155,
     "end_time": "2023-08-28T10:49:24.546115",
     "exception": false,
     "start_time": "2023-08-28T10:49:24.484960",
     "status": "completed"
    },
    "tags": []
   },
   "outputs": [
    {
     "data": {
      "text/html": [
       "<div>\n",
       "<style scoped>\n",
       "    .dataframe tbody tr th:only-of-type {\n",
       "        vertical-align: middle;\n",
       "    }\n",
       "\n",
       "    .dataframe tbody tr th {\n",
       "        vertical-align: top;\n",
       "    }\n",
       "\n",
       "    .dataframe thead th {\n",
       "        text-align: right;\n",
       "    }\n",
       "</style>\n",
       "<table border=\"1\" class=\"dataframe\">\n",
       "  <thead>\n",
       "    <tr style=\"text-align: right;\">\n",
       "      <th></th>\n",
       "      <th>HighBP</th>\n",
       "      <th>HighChol</th>\n",
       "      <th>CholCheck</th>\n",
       "      <th>Smoker</th>\n",
       "      <th>Stroke</th>\n",
       "      <th>HeartDiseaseorAttack</th>\n",
       "      <th>PhysActivity</th>\n",
       "      <th>Fruits</th>\n",
       "      <th>Veggies</th>\n",
       "      <th>HvyAlcoholConsump</th>\n",
       "      <th>...</th>\n",
       "      <th>DiffWalk</th>\n",
       "      <th>Sex</th>\n",
       "      <th>Age</th>\n",
       "      <th>Education</th>\n",
       "      <th>Income</th>\n",
       "      <th>BMI_Healthy weight</th>\n",
       "      <th>BMI_Obese</th>\n",
       "      <th>BMI_Overweight</th>\n",
       "      <th>BMI_Underweight</th>\n",
       "      <th>target</th>\n",
       "    </tr>\n",
       "  </thead>\n",
       "  <tbody>\n",
       "    <tr>\n",
       "      <th>0</th>\n",
       "      <td>1.0</td>\n",
       "      <td>0.0</td>\n",
       "      <td>1.0</td>\n",
       "      <td>0.0</td>\n",
       "      <td>0.0</td>\n",
       "      <td>0.0</td>\n",
       "      <td>1.0</td>\n",
       "      <td>0.0</td>\n",
       "      <td>1.0</td>\n",
       "      <td>0.0</td>\n",
       "      <td>...</td>\n",
       "      <td>0.0</td>\n",
       "      <td>1.0</td>\n",
       "      <td>4.0</td>\n",
       "      <td>6.0</td>\n",
       "      <td>8.0</td>\n",
       "      <td>0.0</td>\n",
       "      <td>0.0</td>\n",
       "      <td>1.0</td>\n",
       "      <td>0.0</td>\n",
       "      <td>0.0</td>\n",
       "    </tr>\n",
       "    <tr>\n",
       "      <th>1</th>\n",
       "      <td>1.0</td>\n",
       "      <td>1.0</td>\n",
       "      <td>1.0</td>\n",
       "      <td>1.0</td>\n",
       "      <td>1.0</td>\n",
       "      <td>0.0</td>\n",
       "      <td>0.0</td>\n",
       "      <td>1.0</td>\n",
       "      <td>0.0</td>\n",
       "      <td>0.0</td>\n",
       "      <td>...</td>\n",
       "      <td>0.0</td>\n",
       "      <td>1.0</td>\n",
       "      <td>12.0</td>\n",
       "      <td>6.0</td>\n",
       "      <td>8.0</td>\n",
       "      <td>0.0</td>\n",
       "      <td>0.0</td>\n",
       "      <td>1.0</td>\n",
       "      <td>0.0</td>\n",
       "      <td>0.0</td>\n",
       "    </tr>\n",
       "    <tr>\n",
       "      <th>2</th>\n",
       "      <td>0.0</td>\n",
       "      <td>0.0</td>\n",
       "      <td>1.0</td>\n",
       "      <td>0.0</td>\n",
       "      <td>0.0</td>\n",
       "      <td>0.0</td>\n",
       "      <td>1.0</td>\n",
       "      <td>1.0</td>\n",
       "      <td>1.0</td>\n",
       "      <td>0.0</td>\n",
       "      <td>...</td>\n",
       "      <td>0.0</td>\n",
       "      <td>1.0</td>\n",
       "      <td>13.0</td>\n",
       "      <td>6.0</td>\n",
       "      <td>8.0</td>\n",
       "      <td>0.0</td>\n",
       "      <td>0.0</td>\n",
       "      <td>1.0</td>\n",
       "      <td>0.0</td>\n",
       "      <td>0.0</td>\n",
       "    </tr>\n",
       "    <tr>\n",
       "      <th>3</th>\n",
       "      <td>1.0</td>\n",
       "      <td>1.0</td>\n",
       "      <td>1.0</td>\n",
       "      <td>1.0</td>\n",
       "      <td>0.0</td>\n",
       "      <td>0.0</td>\n",
       "      <td>1.0</td>\n",
       "      <td>1.0</td>\n",
       "      <td>1.0</td>\n",
       "      <td>0.0</td>\n",
       "      <td>...</td>\n",
       "      <td>0.0</td>\n",
       "      <td>1.0</td>\n",
       "      <td>11.0</td>\n",
       "      <td>6.0</td>\n",
       "      <td>8.0</td>\n",
       "      <td>0.0</td>\n",
       "      <td>0.0</td>\n",
       "      <td>1.0</td>\n",
       "      <td>0.0</td>\n",
       "      <td>0.0</td>\n",
       "    </tr>\n",
       "    <tr>\n",
       "      <th>4</th>\n",
       "      <td>0.0</td>\n",
       "      <td>0.0</td>\n",
       "      <td>1.0</td>\n",
       "      <td>1.0</td>\n",
       "      <td>0.0</td>\n",
       "      <td>0.0</td>\n",
       "      <td>1.0</td>\n",
       "      <td>1.0</td>\n",
       "      <td>1.0</td>\n",
       "      <td>0.0</td>\n",
       "      <td>...</td>\n",
       "      <td>0.0</td>\n",
       "      <td>0.0</td>\n",
       "      <td>8.0</td>\n",
       "      <td>5.0</td>\n",
       "      <td>8.0</td>\n",
       "      <td>0.0</td>\n",
       "      <td>0.0</td>\n",
       "      <td>1.0</td>\n",
       "      <td>0.0</td>\n",
       "      <td>0.0</td>\n",
       "    </tr>\n",
       "  </tbody>\n",
       "</table>\n",
       "<p>5 rows × 25 columns</p>\n",
       "</div>"
      ],
      "text/plain": [
       "   HighBP  HighChol  CholCheck  Smoker  Stroke  HeartDiseaseorAttack  \\\n",
       "0     1.0       0.0        1.0     0.0     0.0                   0.0   \n",
       "1     1.0       1.0        1.0     1.0     1.0                   0.0   \n",
       "2     0.0       0.0        1.0     0.0     0.0                   0.0   \n",
       "3     1.0       1.0        1.0     1.0     0.0                   0.0   \n",
       "4     0.0       0.0        1.0     1.0     0.0                   0.0   \n",
       "\n",
       "   PhysActivity  Fruits  Veggies  HvyAlcoholConsump  ...  DiffWalk  Sex   Age  \\\n",
       "0           1.0     0.0      1.0                0.0  ...       0.0  1.0   4.0   \n",
       "1           0.0     1.0      0.0                0.0  ...       0.0  1.0  12.0   \n",
       "2           1.0     1.0      1.0                0.0  ...       0.0  1.0  13.0   \n",
       "3           1.0     1.0      1.0                0.0  ...       0.0  1.0  11.0   \n",
       "4           1.0     1.0      1.0                0.0  ...       0.0  0.0   8.0   \n",
       "\n",
       "   Education  Income  BMI_Healthy weight  BMI_Obese  BMI_Overweight  \\\n",
       "0        6.0     8.0                 0.0        0.0             1.0   \n",
       "1        6.0     8.0                 0.0        0.0             1.0   \n",
       "2        6.0     8.0                 0.0        0.0             1.0   \n",
       "3        6.0     8.0                 0.0        0.0             1.0   \n",
       "4        5.0     8.0                 0.0        0.0             1.0   \n",
       "\n",
       "   BMI_Underweight  target  \n",
       "0              0.0     0.0  \n",
       "1              0.0     0.0  \n",
       "2              0.0     0.0  \n",
       "3              0.0     0.0  \n",
       "4              0.0     0.0  \n",
       "\n",
       "[5 rows x 25 columns]"
      ]
     },
     "execution_count": 10,
     "metadata": {},
     "output_type": "execute_result"
    }
   ],
   "source": [
    "# create new column named target\n",
    "# remove duplicated column (\"Diabetes_binary\")\n",
    "\n",
    "df[\"target\"] = df[\"Diabetes_binary\"]\n",
    "df = df.drop(['Diabetes_binary'], axis=1)\n",
    "df.head()\n"
   ]
  },
  {
   "cell_type": "code",
   "execution_count": 11,
   "id": "7fd0bd33",
   "metadata": {
    "execution": {
     "iopub.execute_input": "2023-08-28T10:49:24.566087Z",
     "iopub.status.busy": "2023-08-28T10:49:24.565352Z",
     "iopub.status.idle": "2023-08-28T10:49:24.725342Z",
     "shell.execute_reply": "2023-08-28T10:49:24.724216Z"
    },
    "papermill": {
     "duration": 0.172991,
     "end_time": "2023-08-28T10:49:24.728035",
     "exception": false,
     "start_time": "2023-08-28T10:49:24.555044",
     "status": "completed"
    },
    "tags": []
   },
   "outputs": [
    {
     "data": {
      "text/plain": [
       "BMI_Healthy weight     -0.231596\n",
       "Income                 -0.224449\n",
       "Education              -0.170481\n",
       "PhysActivity           -0.158666\n",
       "HvyAlcoholConsump      -0.094853\n",
       "BMI_Overweight         -0.082068\n",
       "Veggies                -0.079293\n",
       "Fruits                 -0.054077\n",
       "BMI_Underweight        -0.046578\n",
       "AnyHealthcare           0.023191\n",
       "NoDocbcCost             0.040977\n",
       "Sex                     0.044413\n",
       "Smoker                  0.085999\n",
       "MentHlth                0.087029\n",
       "CholCheck               0.115382\n",
       "Stroke                  0.125427\n",
       "HeartDiseaseorAttack    0.211523\n",
       "PhysHlth                0.213081\n",
       "DiffWalk                0.272646\n",
       "BMI_Obese               0.275264\n",
       "Age                     0.278738\n",
       "HighChol                0.289213\n",
       "HighBP                  0.381516\n",
       "GenHlth                 0.407612\n",
       "target                  1.000000\n",
       "Name: target, dtype: float64"
      ]
     },
     "execution_count": 11,
     "metadata": {},
     "output_type": "execute_result"
    }
   ],
   "source": [
    "# check correlation between target and other variables \n",
    "\n",
    "df.corr()['target'].sort_values()"
   ]
  },
  {
   "cell_type": "code",
   "execution_count": 12,
   "id": "cc0c03f9",
   "metadata": {
    "execution": {
     "iopub.execute_input": "2023-08-28T10:49:24.748079Z",
     "iopub.status.busy": "2023-08-28T10:49:24.747673Z",
     "iopub.status.idle": "2023-08-28T10:49:26.000299Z",
     "shell.execute_reply": "2023-08-28T10:49:25.998864Z"
    },
    "papermill": {
     "duration": 1.265944,
     "end_time": "2023-08-28T10:49:26.003041",
     "exception": false,
     "start_time": "2023-08-28T10:49:24.737097",
     "status": "completed"
    },
    "tags": []
   },
   "outputs": [
    {
     "data": {
      "text/plain": [
       "<seaborn.matrix.ClusterGrid at 0x7c52f7dc7e80>"
      ]
     },
     "execution_count": 12,
     "metadata": {},
     "output_type": "execute_result"
    },
    {
     "data": {
      "image/png": "[encoded data removed]",
      "text/plain": [
       "<Figure size 1000x1000 with 4 Axes>"
      ]
     },
     "metadata": {},
     "output_type": "display_data"
    }
   ],
   "source": [
    "# plot the correlation as heatmap using Seaborn\n",
    "\n",
    "sns.clustermap(df.corr())"
   ]
  },
  {
   "cell_type": "markdown",
   "id": "6fca8882",
   "metadata": {
    "papermill": {
     "duration": 0.011093,
     "end_time": "2023-08-28T10:49:26.025438",
     "exception": false,
     "start_time": "2023-08-28T10:49:26.014345",
     "status": "completed"
    },
    "tags": []
   },
   "source": [
    "What we can see from the heatmap is that Diabetes(target) positively correlates with BMI_Obese, DiffWalk, General Health, High Blood Pressure, and negatively correlates with BMI_Healthy_weight, income, Education, and Physical Activity"
   ]
  },
  {
   "cell_type": "code",
   "execution_count": 13,
   "id": "b9ecbab2",
   "metadata": {
    "execution": {
     "iopub.execute_input": "2023-08-28T10:49:26.049802Z",
     "iopub.status.busy": "2023-08-28T10:49:26.048834Z",
     "iopub.status.idle": "2023-08-28T10:49:26.300428Z",
     "shell.execute_reply": "2023-08-28T10:49:26.299255Z"
    },
    "papermill": {
     "duration": 0.266509,
     "end_time": "2023-08-28T10:49:26.302957",
     "exception": false,
     "start_time": "2023-08-28T10:49:26.036448",
     "status": "completed"
    },
    "tags": []
   },
   "outputs": [
    {
     "data": {
      "text/plain": [
       "<Axes: xlabel='target', ylabel='count'>"
      ]
     },
     "execution_count": 13,
     "metadata": {},
     "output_type": "execute_result"
    },
    {
     "data": {
      "image/png": "[encoded data removed]",
      "text/plain": [
       "<Figure size 640x480 with 1 Axes>"
      ]
     },
     "metadata": {},
     "output_type": "display_data"
    }
   ],
   "source": [
    "# plot target counts using Seaborn - see if the \n",
    "import seaborn as sns\n",
    "sns.countplot(data=df,\n",
    "          x='target')"
   ]
  },
  {
   "cell_type": "code",
   "execution_count": 14,
   "id": "0099f13c",
   "metadata": {
    "execution": {
     "iopub.execute_input": "2023-08-28T10:49:26.328286Z",
     "iopub.status.busy": "2023-08-28T10:49:26.327595Z",
     "iopub.status.idle": "2023-08-28T10:49:26.339687Z",
     "shell.execute_reply": "2023-08-28T10:49:26.338448Z"
    },
    "papermill": {
     "duration": 0.027391,
     "end_time": "2023-08-28T10:49:26.342037",
     "exception": false,
     "start_time": "2023-08-28T10:49:26.314646",
     "status": "completed"
    },
    "tags": []
   },
   "outputs": [
    {
     "data": {
      "text/plain": [
       "0.0    35346\n",
       "1.0    35346\n",
       "Name: target, dtype: int64"
      ]
     },
     "execution_count": 14,
     "metadata": {},
     "output_type": "execute_result"
    }
   ],
   "source": [
    "df['target'].value_counts()"
   ]
  },
  {
   "cell_type": "code",
   "execution_count": 15,
   "id": "7af56cb8",
   "metadata": {
    "execution": {
     "iopub.execute_input": "2023-08-28T10:49:26.366728Z",
     "iopub.status.busy": "2023-08-28T10:49:26.366310Z",
     "iopub.status.idle": "2023-08-28T10:49:26.525333Z",
     "shell.execute_reply": "2023-08-28T10:49:26.524264Z"
    },
    "papermill": {
     "duration": 0.174661,
     "end_time": "2023-08-28T10:49:26.528187",
     "exception": false,
     "start_time": "2023-08-28T10:49:26.353526",
     "status": "completed"
    },
    "tags": []
   },
   "outputs": [],
   "source": [
    "# prepare trainig set and testing set\n",
    "\n",
    "from sklearn.model_selection import train_test_split\n",
    "\n",
    "X = df.drop('target', axis=1)\n",
    "y = df['target']\n",
    "\n",
    "X_train, X_test, y_train, y_test = train_test_split(X, y, \n",
    "                                                    test_size=0.2, \n",
    "                                                    random_state=42)"
   ]
  },
  {
   "cell_type": "code",
   "execution_count": 16,
   "id": "40c3ff83",
   "metadata": {
    "execution": {
     "iopub.execute_input": "2023-08-28T10:49:26.553676Z",
     "iopub.status.busy": "2023-08-28T10:49:26.553237Z",
     "iopub.status.idle": "2023-08-28T10:49:26.988274Z",
     "shell.execute_reply": "2023-08-28T10:49:26.987152Z"
    },
    "papermill": {
     "duration": 0.451292,
     "end_time": "2023-08-28T10:49:26.991492",
     "exception": false,
     "start_time": "2023-08-28T10:49:26.540200",
     "status": "completed"
    },
    "tags": []
   },
   "outputs": [],
   "source": [
    "\n",
    "# import classifiers to be tested: Logistic Regression, Decision Tree, Random Forest, Gradient Boosting, Gaussian Naive Bayes, Multi-layer Perceptron\n",
    "\n",
    "from sklearn.linear_model import LogisticRegression\n",
    "from sklearn.tree import DecisionTreeClassifier \n",
    "from sklearn.ensemble import RandomForestClassifier\n",
    "from sklearn.ensemble import GradientBoostingClassifier\n",
    "from sklearn.naive_bayes import GaussianNB\n",
    "from sklearn.neural_network import MLPClassifier\n",
    "\n",
    "\n",
    "# import metrics, pipeline and GridSearchCV\n",
    "from sklearn.metrics import accuracy_score,classification_report\n",
    "from sklearn.model_selection import GridSearchCV\n",
    "from sklearn.pipeline import make_pipeline"
   ]
  }
 ],
 "metadata": {
  "kernelspec": {
   "display_name": "Python 3",
   "language": "python",
   "name": "python3"
  },
  "language_info": {
   "codemirror_mode": {
    "name": "ipython",
    "version": 3
   },
   "file_extension": ".py",
   "mimetype": "text/x-python",
   "name": "python",
   "nbconvert_exporter": "python",
   "pygments_lexer": "ipython3",
   "version": "3.10.12"
  },
  "papermill": {
   "default_parameters": {},
   "duration": 17.90492,
   "end_time": "2023-08-28T10:49:28.027018",
   "environment_variables": {},
   "exception": null,
   "input_path": "__notebook__.ipynb",
   "output_path": "__notebook__.ipynb",
   "parameters": {},
   "start_time": "2023-08-28T10:49:10.122098",
   "version": "2.4.0"
  }
 },
 "nbformat": 4,
 "nbformat_minor": 5
}
